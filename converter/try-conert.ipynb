{
 "cells": [
  {
   "cell_type": "code",
   "execution_count": 37,
   "metadata": {},
   "outputs": [],
   "source": [
    "import re\n",
    "from collections import defaultdict\n",
    "\n",
    "import numpy as np\n",
    "\n",
    "dot_content = open('../dct-viz.dot').read()"
   ]
  },
  {
   "cell_type": "code",
   "execution_count": 52,
   "metadata": {},
   "outputs": [],
   "source": [
    "son_relation_raw = re.findall('\\d+ -> \\d+', dot_content)\n",
    "label_raw = re.findall('(\\d+) \\[label=\"([^\"]+)\"\\]', dot_content)"
   ]
  },
  {
   "cell_type": "code",
   "execution_count": 10,
   "metadata": {},
   "outputs": [],
   "source": [
    "node_map = {'0': 0}; children_num = defaultdict(int)\n",
    "for line in son_relation_raw:\n",
    "    father, son = line.split(' -> ')\n",
    "    if children_num[father] == 0:\n",
    "        node_map[son] = node_map[father] * 2 + 1\n",
    "    elif children_num[father] == 1:\n",
    "        node_map[son] = node_map[father] * 2 + 2\n",
    "    else:\n",
    "        assert False\n",
    "    children_num[father] += 1"
   ]
  },
  {
   "cell_type": "code",
   "execution_count": 55,
   "metadata": {},
   "outputs": [
    {
     "name": "stdout",
     "output_type": "stream",
     "text": [
      "node 0 (2, 2.45)\n",
      "leaf 1 (0,)\n",
      "node 2 (3, 1.75)\n",
      "node 5 (2, 4.95)\n",
      "node 11 (3, 1.65)\n",
      "leaf 23 (1,)\n",
      "leaf 24 (2,)\n",
      "node 12 (3, 1.55)\n",
      "leaf 25 (2,)\n",
      "node 26 (0, 6.95)\n",
      "leaf 53 (1,)\n",
      "leaf 54 (2,)\n",
      "node 6 (2, 4.85)\n",
      "node 13 (1, 3.1)\n",
      "leaf 27 (2,)\n",
      "leaf 28 (1,)\n",
      "leaf 14 (2,)\n"
     ]
    }
   ],
   "source": [
    "def process_name(label_line):\n",
    "    name = re.match('^\\d+ \\[', label_line).group(1)\n",
    "\n",
    "def process_node(label_line):\n",
    "    judgement = label_line.split('\\\\n')[0]\n",
    "    node_attribute = int(re.search('\\[(\\d+)\\]', judgement).group(1))\n",
    "    node_threshold = float(re.search('\\d+\\.\\d+', judgement).group())\n",
    "    return node_attribute, node_threshold\n",
    "\n",
    "def process_leaf(label_line):\n",
    "    sample_num_raw = label_line.split('\\\\n')[-1]\n",
    "    sample_num = np.array(eval(re.search('\\[[\\d, ]+\\]', sample_num_raw).group()))\n",
    "    class_index = np.where(sample_num)[0]\n",
    "    assert class_index.shape[0] == 1\n",
    "    return class_index[0],\n",
    "\n",
    "for name, label_line in label_raw:\n",
    "    if label_line.startswith('gini'):\n",
    "        print('leaf', node_map[name], process_leaf(label_line))\n",
    "    else:\n",
    "        print('node', node_map[name], process_node(label_line))"
   ]
  },
  {
   "cell_type": "code",
   "execution_count": null,
   "metadata": {},
   "outputs": [],
   "source": []
  },
  {
   "cell_type": "code",
   "execution_count": null,
   "metadata": {},
   "outputs": [],
   "source": []
  }
 ],
 "metadata": {
  "kernelspec": {
   "display_name": "base",
   "language": "python",
   "name": "python3"
  },
  "language_info": {
   "codemirror_mode": {
    "name": "ipython",
    "version": 3
   },
   "file_extension": ".py",
   "mimetype": "text/x-python",
   "name": "python",
   "nbconvert_exporter": "python",
   "pygments_lexer": "ipython3",
   "version": "3.9.12"
  },
  "orig_nbformat": 4,
  "vscode": {
   "interpreter": {
    "hash": "907dce75b53d1f0ff409e4e59b779b14a98f445a872adfa366de671a96b6dc1e"
   }
  }
 },
 "nbformat": 4,
 "nbformat_minor": 2
}
