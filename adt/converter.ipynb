{
 "cells": [
  {
   "cell_type": "code",
   "execution_count": 49,
   "metadata": {},
   "outputs": [],
   "source": [
    "import re, math, json\n",
    "from typing import Tuple, Union, Dict\n",
    "from collections import defaultdict\n",
    "import numpy as np"
   ]
  },
  {
   "cell_type": "code",
   "execution_count": 76,
   "metadata": {},
   "outputs": [
    {
     "data": {
      "text/plain": [
       "[(0, 2, 2.45),\n",
       " (1, 0, 0),\n",
       " (2, 3, 1.75),\n",
       " (3, 0, 0),\n",
       " (4, 0, 0),\n",
       " (5, 2, 4.95),\n",
       " (6, 2, 4.85),\n",
       " (7, 0, 0),\n",
       " (8, 0, 0),\n",
       " (9, 0, 0),\n",
       " (10, 0, 0),\n",
       " (11, 3, 1.65),\n",
       " (12, 3, 1.55),\n",
       " (13, 1, 3.1),\n",
       " (14, 0, 0),\n",
       " (15, 0, 0),\n",
       " (16, 0, 0),\n",
       " (17, 0, 0),\n",
       " (18, 0, 0),\n",
       " (19, 0, 0),\n",
       " (20, 0, 0),\n",
       " (21, 0, 0),\n",
       " (22, 0, 0),\n",
       " (23, 0, 0),\n",
       " (24, 0, 0),\n",
       " (25, 0, 0),\n",
       " (26, 0, 6.95),\n",
       " (27, 0, 0),\n",
       " (28, 0, 0),\n",
       " (29, 0, 0),\n",
       " (30, 0, 0),\n",
       " (31, -1, 0),\n",
       " (32, -1, 0),\n",
       " (33, -1, 0),\n",
       " (34, -1, 0),\n",
       " (35, -1, 0),\n",
       " (36, -1, 0),\n",
       " (37, -1, 0),\n",
       " (38, -1, 0),\n",
       " (39, -1, 0),\n",
       " (40, -1, 0),\n",
       " (41, -1, 0),\n",
       " (42, -1, 0),\n",
       " (43, -1, 0),\n",
       " (44, -1, 0),\n",
       " (45, -1, 0),\n",
       " (46, -1, 0),\n",
       " (47, -1, 1),\n",
       " (48, -1, 1),\n",
       " (49, -1, 2),\n",
       " (50, -1, 2),\n",
       " (51, -1, 2),\n",
       " (52, -1, 2),\n",
       " (53, -1, 1),\n",
       " (54, -1, 2),\n",
       " (55, -1, 2),\n",
       " (56, -1, 2),\n",
       " (57, -1, 1),\n",
       " (58, -1, 1),\n",
       " (59, -1, 2),\n",
       " (60, -1, 2),\n",
       " (61, -1, 2),\n",
       " (62, -1, 2)]"
      ]
     },
     "execution_count": 76,
     "metadata": {},
     "output_type": "execute_result"
    }
   ],
   "source": [
    "class DotContent:\n",
    "    \n",
    "    def __init__(self, path) -> None:\n",
    "        self.dot_content = open(path).read()\n",
    "        self.son_relation_raw = re.findall('\\d+ -> \\d+', self.dot_content)\n",
    "        self.label_raw = re.findall('(\\d+) \\[label=\"([^\"]+)\"\\]', self.dot_content)\n",
    "        \n",
    "        self.depth = 0\n",
    "        self.node_map = {'0': 0}\n",
    "        self.children_num = defaultdict(int)\n",
    "        self.raw_tree = defaultdict(lambda: (-2, 0))\n",
    "        self.full_tree = defaultdict(lambda: (-2, 0))\n",
    "        self.serialized = []\n",
    "    \n",
    "    def _process_node(self, label_line) -> Tuple[int, float]:\n",
    "        judgement = label_line.split('\\\\n')[0]\n",
    "        node_attribute = int(re.search('\\[(\\d+)\\]', judgement).group(1))\n",
    "        node_threshold = float(re.search('\\d+\\.\\d+', judgement).group())\n",
    "        return node_attribute, node_threshold\n",
    "    \n",
    "    def _process_leaf(self, label_line) -> Tuple[int, int]:\n",
    "        sample_num_raw = label_line.split('\\\\n')[-1]\n",
    "        sample_num = np.array(eval(re.search('\\[[\\d, ]+\\]', sample_num_raw).group()))\n",
    "        class_index = np.where(sample_num)[0]\n",
    "        assert class_index.shape[0] == 1\n",
    "        return -1, int(class_index[0])\n",
    "    \n",
    "    \n",
    "    def build(self) -> Dict[int, Tuple[int, Union[int, float]]]:\n",
    "\n",
    "        for line in self.son_relation_raw:\n",
    "            father, son = line.split(' -> ')\n",
    "            if self.children_num[father] == 0:\n",
    "                self.node_map[son] = self.node_map[father] * 2 + 1\n",
    "            elif self.children_num[father] == 1:\n",
    "                self.node_map[son] = self.node_map[father] * 2 + 2\n",
    "            else:\n",
    "                assert False\n",
    "            self.children_num[father] += 1\n",
    "            \n",
    "        for name, label_line in self.label_raw:\n",
    "            if label_line.startswith('gini'):\n",
    "                self.raw_tree[self.node_map[name]] = self._process_leaf(label_line)\n",
    "            else:\n",
    "                self.raw_tree[self.node_map[name]] = self._process_node(label_line)\n",
    "        \n",
    "        self.depth = math.ceil(math.log2(2 + max(self.node_map.values())))\n",
    "        return self.raw_tree\n",
    "    \n",
    "    \n",
    "    def expand(self, save_json=''):\n",
    "        assert self.depth != 0, \"Should call `build()` first!\"\n",
    "        self.deepest = (2 ** (self.depth - 1) - 1, 2 ** self.depth - 1)\n",
    "        self.full_tree = self.raw_tree.copy()\n",
    "        \n",
    "        for n in range(self.deepest[1]):\n",
    "            if n not in self.full_tree:\n",
    "                self.full_tree[n] = self.full_tree[(n-1) // 2]\n",
    "                \n",
    "        for n in range(self.deepest[0]):\n",
    "            if self.full_tree[n][0] == -1:\n",
    "                self.full_tree[n] = (0, 0)\n",
    "\n",
    "        self.serialized = [(n, *self.full_tree[n]) for n in range(self.deepest[1])]\n",
    "        if save_json:\n",
    "            json.dump(self.serialized, open(save_json, 'w'))\n",
    "        return self.serialized\n",
    "\n",
    "\n",
    "dot = DotContent('../dct-viz.dot')\n",
    "dot.build()\n",
    "dot.expand(save_json='./dct.json')"
   ]
  },
  {
   "cell_type": "code",
   "execution_count": 65,
   "metadata": {},
   "outputs": [
    {
     "data": {
      "text/plain": [
       "defaultdict(<function __main__.DotContent.__init__.<locals>.<lambda>()>,\n",
       "            {0: (2, 2.45),\n",
       "             1: (-1, 0),\n",
       "             2: (3, 1.75),\n",
       "             5: (2, 4.95),\n",
       "             11: (3, 1.65),\n",
       "             23: (-1, 1),\n",
       "             24: (-1, 2),\n",
       "             12: (3, 1.55),\n",
       "             25: (-1, 2),\n",
       "             26: (0, 6.95),\n",
       "             53: (-1, 1),\n",
       "             54: (-1, 2),\n",
       "             6: (2, 4.85),\n",
       "             13: (1, 3.1),\n",
       "             27: (-1, 2),\n",
       "             28: (-1, 1),\n",
       "             14: (-1, 2)})"
      ]
     },
     "execution_count": 65,
     "metadata": {},
     "output_type": "execute_result"
    }
   ],
   "source": [
    "dot.raw_tree"
   ]
  },
  {
   "cell_type": "code",
   "execution_count": null,
   "metadata": {},
   "outputs": [],
   "source": []
  },
  {
   "cell_type": "code",
   "execution_count": null,
   "metadata": {},
   "outputs": [],
   "source": []
  }
 ],
 "metadata": {
  "kernelspec": {
   "display_name": "base",
   "language": "python",
   "name": "python3"
  },
  "language_info": {
   "codemirror_mode": {
    "name": "ipython",
    "version": 3
   },
   "file_extension": ".py",
   "mimetype": "text/x-python",
   "name": "python",
   "nbconvert_exporter": "python",
   "pygments_lexer": "ipython3",
   "version": "3.9.12"
  },
  "orig_nbformat": 4,
  "vscode": {
   "interpreter": {
    "hash": "907dce75b53d1f0ff409e4e59b779b14a98f445a872adfa366de671a96b6dc1e"
   }
  }
 },
 "nbformat": 4,
 "nbformat_minor": 2
}
