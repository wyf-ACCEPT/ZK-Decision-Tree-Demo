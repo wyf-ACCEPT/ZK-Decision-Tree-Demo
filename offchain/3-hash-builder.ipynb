{
 "cells": [
  {
   "cell_type": "code",
   "execution_count": 3,
   "metadata": {},
   "outputs": [
    {
     "data": {
      "text/plain": [
       "'64e604787cbf194841e7b68d7cd28786f6c9a0a3ab9f8b0a0e87cb4387ab0107'"
      ]
     },
     "execution_count": 3,
     "metadata": {},
     "output_type": "execute_result"
    }
   ],
   "source": [
    "from Crypto.Hash import keccak\n",
    "\n",
    "def keccak256(string: str) -> str:\n",
    "    new_cal = keccak.new(digest_bits=256)\n",
    "    return new_cal.update(string.encode()).hexdigest()\n",
    "\n",
    "keccak256('123')"
   ]
  },
  {
   "cell_type": "code",
   "execution_count": 16,
   "metadata": {},
   "outputs": [],
   "source": [
    "import json\n",
    "from mimc import Zero, FieldNumber as FN, MiMCSponge as MiMC\n",
    "\n",
    "series_dct = json.load(open('./dct-serialize.json'))\n",
    "\n",
    "assert bin(len(series_dct) + 1)[2:].count('1') == 1, \"Length doesn't match\"\n",
    "assert [l[0] for l in series_dct] == list(range(len(series_dct))), \"Index doesn't match\""
   ]
  },
  {
   "cell_type": "code",
   "execution_count": null,
   "metadata": {},
   "outputs": [],
   "source": []
  }
 ],
 "metadata": {
  "kernelspec": {
   "display_name": "base",
   "language": "python",
   "name": "python3"
  },
  "language_info": {
   "codemirror_mode": {
    "name": "ipython",
    "version": 3
   },
   "file_extension": ".py",
   "mimetype": "text/x-python",
   "name": "python",
   "nbconvert_exporter": "python",
   "pygments_lexer": "ipython3",
   "version": "3.9.12"
  },
  "orig_nbformat": 4
 },
 "nbformat": 4,
 "nbformat_minor": 2
}
