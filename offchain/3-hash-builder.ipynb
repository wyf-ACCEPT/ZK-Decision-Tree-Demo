{
 "cells": [
  {
   "cell_type": "code",
   "execution_count": 1,
   "metadata": {},
   "outputs": [],
   "source": [
    "# from Crypto.Hash import keccak\n",
    "\n",
    "# def keccak256(string: str) -> str:\n",
    "#     new_cal = keccak.new(digest_bits=256)\n",
    "#     return new_cal.update(string.encode()).hexdigest()\n",
    "\n",
    "# keccak256('123')"
   ]
  },
  {
   "cell_type": "code",
   "execution_count": 13,
   "metadata": {},
   "outputs": [],
   "source": [
    "import json\n",
    "from mimc import Zero, FieldNumber as FN, MiMCSponge\n",
    "\n",
    "series_dct = json.load(open('./dct-serialize.json'))\n",
    "\n",
    "assert bin(len(series_dct) + 1)[2:].count('1') == 1, \"Length doesn't match\"\n",
    "assert [l[0] for l in series_dct] == list(range(len(series_dct))), \"Index doesn't match\"\n",
    "\n",
    "mimc = MiMCSponge(-1, 220, -1)\n",
    "\n",
    "node_dict = {}\n",
    "for k in range(len(series_dct)-1, -1, -1):\n",
    "    node_info = series_dct[k]\n",
    "    \n",
    "    if node_info[1] == -1:\n",
    "        node_hash = mimc.run_nto1([\n",
    "            FN(node_info[2]),           # Leaf class\n",
    "            FN(node_info[0]),           # Leaf location\n",
    "        ])\n",
    "    else:\n",
    "        node_hash = mimc.run_nto1([\n",
    "            FN(node_dict[k*2+1]),       # Left child hash\n",
    "            FN(node_dict[k*2+2]),       # Right child hash\n",
    "            FN(node_info[1]),           # Node attribute\n",
    "            FN(node_info[2]),           # Node threshold\n",
    "        ])\n",
    "    \n",
    "    node_dict[k] = node_hash.number"
   ]
  },
  {
   "cell_type": "code",
   "execution_count": 34,
   "metadata": {},
   "outputs": [
    {
     "name": "stdout",
     "output_type": "stream",
     "text": [
      "\"14738284516118542279044613062392077453672527800542877369084326368998413463534\",\n",
      "\"6707137214048112169348076733962540460483072835500493119566725794349053838632\",\n",
      "\"10023264508974121377686209219543330760520721132774232588247641165170348552157\",\n",
      "\"13005730435519623420939719315271189808619950510438419779308096714144661555894\",\n",
      "\"6525725329685632679013351469105524719410394627460605249044401523430536622411\",\n"
     ]
    }
   ],
   "source": [
    "select_leaf = 46\n",
    "\n",
    "input_node_hash = []\n",
    "while select_leaf > 0:\n",
    "    neighbor = (select_leaf + 1) if select_leaf & 1 else (select_leaf - 1)\n",
    "    select_leaf  = (select_leaf - 1) // 2\n",
    "    input_node_hash.append((neighbor, node_dict[neighbor]))\n",
    "\n",
    "for o in ['\"' + str(o[1]) + '\",' for o in input_node_hash]:\n",
    "    print(o)"
   ]
  },
  {
   "cell_type": "code",
   "execution_count": 39,
   "metadata": {},
   "outputs": [
    {
     "data": {
      "text/plain": [
       "2247812535922842444482633518805301837146133301323337024132694587022628543208"
      ]
     },
     "execution_count": 39,
     "metadata": {},
     "output_type": "execute_result"
    }
   ],
   "source": [
    "randomness = 11111111111111111111111111111111111111111111111111111111111111\n",
    "\n",
    "mimc.run_nto1([\n",
    "    FN(node_dict[0]),           # Original root hash\n",
    "    FN(randomness),             # Randomness\n",
    "]).number"
   ]
  },
  {
   "cell_type": "code",
   "execution_count": null,
   "metadata": {},
   "outputs": [],
   "source": []
  },
  {
   "cell_type": "code",
   "execution_count": null,
   "metadata": {},
   "outputs": [],
   "source": []
  }
 ],
 "metadata": {
  "kernelspec": {
   "display_name": "base",
   "language": "python",
   "name": "python3"
  },
  "language_info": {
   "codemirror_mode": {
    "name": "ipython",
    "version": 3
   },
   "file_extension": ".py",
   "mimetype": "text/x-python",
   "name": "python",
   "nbconvert_exporter": "python",
   "pygments_lexer": "ipython3",
   "version": "3.9.12"
  },
  "orig_nbformat": 4
 },
 "nbformat": 4,
 "nbformat_minor": 2
}
